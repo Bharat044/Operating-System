{
 "cells": [
  {
   "cell_type": "markdown",
   "metadata": {},
   "source": [
    "# ROUND ROBIN WITH ARRIVAL TIME"
   ]
  },
  {
   "cell_type": "code",
   "execution_count": 6,
   "metadata": {},
   "outputs": [
    {
     "name": "stdout",
     "output_type": "stream",
     "text": [
      "Processes Burst Time Waiting  Arrival Time\t Time Turn-Around Time\n",
      "  1 \t\t 0 \t\t 6 \t\t 2 \t\t 8\n",
      "  2 \t\t 4 \t\t 3 \t\t 12 \t\t 11\n",
      "  3 \t\t 2 \t\t 9 \t\t 11 \t\t 18\n",
      "  4 \t\t 5 \t\t 2 \t\t 12 \t\t 9\n",
      "\n",
      "Average waiting time = 9.25000 \n",
      "Average turn around time = 11.50000 \n"
     ]
    }
   ],
   "source": [
    "def findWaitingTime(processes, n, bt,wt, quantum,arrival_time): \n",
    "    rem_bt = [0] * n  \n",
    "    for i in range(n): \n",
    "        rem_bt[i] = bt[i] \n",
    "    t = 0 \n",
    "    arrival=0\n",
    "    while(1): \n",
    "        done = True\n",
    "        for i in range(n):  \n",
    "            if (rem_bt[i] > 0) : \n",
    "                done = False \n",
    "\n",
    "                if (rem_bt[i] > quantum and arrival_time[i]<=arrival) :  \n",
    "                    t += quantum  \n",
    "                    rem_bt[i] -= quantum \n",
    "                    arrival=arrival+1\n",
    "                else:\n",
    "                    if(arrival_time[i]<=arrival):\n",
    "                        arrival=arrival+1\n",
    "                        t = t + rem_bt[i]  \n",
    "                        wt[i] = t - bt[i]  \n",
    "                        rem_bt[i] = 0 \n",
    "        if (done == True): \n",
    "            break \n",
    "def findTurnAroundTime(processes, n, bt, wt, tat,arrival_time): \n",
    "    for i in range(n): \n",
    "        tat[i] = bt[i] + wt[i] - arrival_time[i]\n",
    "def findavgTime(processes, n, bt, quantum,arrival_time): \n",
    "    wt = [0] * n \n",
    "    tat = [0] * n  \n",
    "    findWaitingTime(processes, n, bt,wt, quantum,arrival_time)  \n",
    "    findTurnAroundTime(processes, n, bt, wt, tat,arrival_time)  \n",
    "    print(\"Processes Burst Time Waiting\",\" Arrival Time\\t\", \n",
    "          \"Time Turn-Around Time\") \n",
    "    total_wt = 0\n",
    "    total_tat = 0\n",
    "    for i in range(n): \n",
    "\n",
    "        total_wt = total_wt + wt[i] \n",
    "        total_tat = total_tat + tat[i] \n",
    "        print(\" \", i + 1, \"\\t\\t\", arrival_time[i],\"\\t\\t\", bt[i], \"\\t\\t\", wt[i], \"\\t\\t\", tat[i]) \n",
    "\n",
    "    print(\"\\nAverage waiting time = %.5f \"%(total_wt /n) ) \n",
    "    print(\"Average turn around time = %.5f \"% (total_tat / n)) \n",
    "if __name__ ==\"__main__\": \n",
    "    quantum=2\n",
    "    arrival_time=[0,4,2,5]\n",
    "    proc=[1,2,3,4]\n",
    "    burst_time=[6,3,9,2]\n",
    "    n=len(proc)\n",
    "    findavgTime(proc, n, burst_time, quantum,arrival_time) "
   ]
  },
  {
   "cell_type": "markdown",
   "metadata": {},
   "source": [
    " "
   ]
  },
  {
   "cell_type": "markdown",
   "metadata": {},
   "source": [
    "# ROUND ROBIN WITHOUT ARRIVAL TIME"
   ]
  },
  {
   "cell_type": "code",
   "execution_count": 4,
   "metadata": {},
   "outputs": [
    {
     "name": "stdout",
     "output_type": "stream",
     "text": [
      "Processes    Burst Time     Waiting Time    Turn-Around Time\n",
      "  1 \t\t 7 \t\t 7 \t\t 14\n",
      "  2 \t\t 5 \t\t 7 \t\t 12\n",
      "  3 \t\t 2 \t\t 4 \t\t 6\n",
      "\n",
      "Average waiting time = 6.00000 \n",
      "Average turn around time = 10.66667 \n"
     ]
    }
   ],
   "source": [
    "def findWaitingTime(processes, n, bt,wt, quantum):  \n",
    "    rem_bt = [0] * n \n",
    "    \n",
    "    for i in range(n):  \n",
    "        rem_bt[i] = bt[i] \n",
    "    t = 0  \n",
    "    while(1): \n",
    "        done = True \n",
    "        for i in range(n): \n",
    "            if (rem_bt[i] > 0) : \n",
    "                done = False \n",
    "                  \n",
    "                if (rem_bt[i] > quantum) :  \n",
    "                    t += quantum\n",
    "                    rem_bt[i] -= quantum\n",
    "                else:  \n",
    "                    t = t + rem_bt[i]  \n",
    "                    wt[i] = t - bt[i]  \n",
    "                    rem_bt[i] = 0  \n",
    "        if (done == True): \n",
    "            break\n",
    " \n",
    "def findTurnAroundTime(processes, n, bt, wt, tat): \n",
    "  \n",
    "    for i in range(n): \n",
    "        tat[i] = bt[i] + wt[i]  \n",
    "  \n",
    "def findavgTime(processes, n, bt, quantum):  \n",
    "    wt = [0] * n \n",
    "    tat = [0] * n  \n",
    "\n",
    "    findWaitingTime(processes, n, bt, wt, quantum)  \n",
    "  \n",
    "    findTurnAroundTime(processes, n, bt, wt, tat) \n",
    "    print(\"Processes    Burst Time     Waiting\",  \n",
    "                     \"Time    Turn-Around Time\") \n",
    "    total_wt = 0\n",
    "    total_tat = 0\n",
    "    for i in range(n): \n",
    "  \n",
    "        total_wt = total_wt + wt[i]  \n",
    "        total_tat = total_tat + tat[i]  \n",
    "        print(\" \", i + 1, \"\\t\\t\", bt[i],  \n",
    "              \"\\t\\t\", wt[i], \"\\t\\t\", tat[i]) \n",
    "  \n",
    "    print(\"\\nAverage waiting time = %.5f \"%(total_wt /n) ) \n",
    "    print(\"Average turn around time = %.5f \"% (total_tat / n))  \n",
    " \n",
    "if __name__ ==\"__main__\": \n",
    "  \n",
    "    proc = [1, 2, 3] \n",
    "    n = 3  \n",
    "    burst_time = [7, 5, 2]    \n",
    "    quantum = 1;\n",
    "    \n",
    "    findavgTime(proc, n, burst_time, quantum) "
   ]
  },
  {
   "cell_type": "markdown",
   "metadata": {},
   "source": [
    " "
   ]
  }
 ],
 "metadata": {
  "kernelspec": {
   "display_name": "Python 3",
   "language": "python",
   "name": "python3"
  },
  "language_info": {
   "codemirror_mode": {
    "name": "ipython",
    "version": 3
   },
   "file_extension": ".py",
   "mimetype": "text/x-python",
   "name": "python",
   "nbconvert_exporter": "python",
   "pygments_lexer": "ipython3",
   "version": "3.7.3"
  }
 },
 "nbformat": 4,
 "nbformat_minor": 2
}
