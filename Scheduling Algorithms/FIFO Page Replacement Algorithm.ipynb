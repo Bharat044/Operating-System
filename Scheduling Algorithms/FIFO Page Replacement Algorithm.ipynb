{
 "cells": [
  {
   "cell_type": "markdown",
   "metadata": {},
   "source": [
    "### FIFO Page Replacement Algorithm"
   ]
  },
  {
   "cell_type": "code",
   "execution_count": 6,
   "metadata": {},
   "outputs": [
    {
     "name": "stdout",
     "output_type": "stream",
     "text": [
      "Enter number of elements : 20\n",
      "1\n",
      "2\n",
      "3\n",
      "4\n",
      "2\n",
      "1\n",
      "5\n",
      "6\n",
      "2\n",
      "1\n",
      "2\n",
      "3\n",
      "7\n",
      "6\n",
      "3\n",
      "2\n",
      "1\n",
      "2\n",
      "3\n",
      "6\n",
      "[1, 2, 3, 4, 2, 1, 5, 6, 2, 1, 2, 3, 7, 6, 3, 2, 1, 2, 3, 6]\n",
      "Enter No. of frames: 3\n",
      "16\n"
     ]
    }
   ],
   "source": [
    "from queue import Queue\n",
    "def pageFaults(pages, n, capacity):  \n",
    "    s = set()\n",
    "    \n",
    "    indexes = Queue()\n",
    "    \n",
    "    page_faults = 0\n",
    "    for i in range(n):\n",
    "        \n",
    "        if (len(s) < capacity):\n",
    "            \n",
    "            if (pages[i] not in s): \n",
    "                s.add(pages[i])\n",
    "                \n",
    "                page_faults += 1\n",
    "                \n",
    "                indexes.put(pages[i])\n",
    "                \n",
    "        else:\n",
    "            \n",
    "            if (pages[i] not in s):\n",
    "                val = indexes.queue[0]\n",
    "                indexes.get()\n",
    "                s.remove(val)\n",
    "                s.add(pages[i])\n",
    "                indexes.put(pages[i])\n",
    "                page_faults += 1\n",
    "  \n",
    "    return page_faults\n",
    "\n",
    "if __name__ == '__main__':\n",
    "    \n",
    "    pages = []\n",
    "    n = int(input(\"Enter number of elements : \"))\n",
    "    for i in range(0, n):\n",
    "        ele = int(input())\n",
    "        pages.append(ele)\n",
    "    \n",
    "    print(pages)\n",
    "      \n",
    "    frames = int(input(\"Enter No. of frames: \"))\n",
    "    print(pageFaults(pages, n, frames))"
   ]
  }
 ],
 "metadata": {
  "kernelspec": {
   "display_name": "Python 3",
   "language": "python",
   "name": "python3"
  },
  "language_info": {
   "codemirror_mode": {
    "name": "ipython",
    "version": 3
   },
   "file_extension": ".py",
   "mimetype": "text/x-python",
   "name": "python",
   "nbconvert_exporter": "python",
   "pygments_lexer": "ipython3",
   "version": "3.7.3"
  }
 },
 "nbformat": 4,
 "nbformat_minor": 2
}
