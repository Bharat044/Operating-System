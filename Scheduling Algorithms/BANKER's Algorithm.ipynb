{
 "cells": [
  {
   "cell_type": "code",
   "execution_count": 1,
   "metadata": {},
   "outputs": [
    {
     "name": "stdout",
     "output_type": "stream",
     "text": [
      "The system is Safe\n",
      "Safe Sequence:  [0 2 3 4 1]\n",
      "Available Resource: [ 9 13 10 11]\n"
     ]
    }
   ],
   "source": [
    "import numpy as np\n",
    "def check(i):\n",
    "    for j in range(no_r):\n",
    "        if(needed[i][j]>available[j]):\n",
    "            return 0\n",
    "    return 1\n",
    "no_p = 5\n",
    "no_r = 4\n",
    "Sequence = np.zeros((no_p,),dtype=int)\n",
    "visited = np.zeros((no_p,),dtype=int)\n",
    "allocated = np.array([[4,0,0,1],[1,1,0,0],[1,2,5,4],[0,6,3,3],[0,2,1,2]])\n",
    "maximum = np.array([[6,0,1,2],[1,7,5,0],[2,3,5,6],[1,6,5,3],[1,6,5,6]])\n",
    "needed = maximum - allocated\n",
    "available = np.array([3,2,1,1])\n",
    "count = 0\n",
    "while( count < no_p ):\n",
    "    temp=0\n",
    "    for i in range( no_p ):\n",
    "        if( visited[i] == 0 ):\n",
    "            if(check(i)):\n",
    "                Sequence[count]=i;\n",
    "                count+=1\n",
    "                visited[i]=1\n",
    "                temp=1\n",
    "                for j in range(no_r):\n",
    "                    available[j] += allocated[i][j] \n",
    "    if(temp == 0):\n",
    "        break\n",
    "if(count < no_p):\n",
    "    print('The system is Unsafe')\n",
    "else:\n",
    "    print(\"The system is Safe\")\n",
    "    print(\"Safe Sequence: \",Sequence)\n",
    "    print(\"Available Resource:\",available)"
   ]
  },
  {
   "cell_type": "code",
   "execution_count": null,
   "metadata": {},
   "outputs": [],
   "source": []
  }
 ],
 "metadata": {
  "kernelspec": {
   "display_name": "Python 3",
   "language": "python",
   "name": "python3"
  },
  "language_info": {
   "codemirror_mode": {
    "name": "ipython",
    "version": 3
   },
   "file_extension": ".py",
   "mimetype": "text/x-python",
   "name": "python",
   "nbconvert_exporter": "python",
   "pygments_lexer": "ipython3",
   "version": "3.7.3"
  }
 },
 "nbformat": 4,
 "nbformat_minor": 2
}
