{
 "cells": [
  {
   "cell_type": "markdown",
   "metadata": {},
   "source": [
    "# SJF PRE-EMPTIVE"
   ]
  },
  {
   "cell_type": "code",
   "execution_count": 1,
   "metadata": {},
   "outputs": [
    {
     "name": "stdout",
     "output_type": "stream",
     "text": [
      "Enter size : 5\n",
      "Enter process id for process 1 :1\n",
      "Enter Burst Time for process 1 :2\n",
      "Enter arrival time for process 1 :0\n",
      "Enter process id for process 2 :2\n",
      "Enter Burst Time for process 2 :4\n",
      "Enter arrival time for process 2 :3\n",
      "Enter process id for process 3 :3\n",
      "Enter Burst Time for process 3 :7\n",
      "Enter arrival time for process 3 :6\n",
      "Enter process id for process 4 :4\n",
      "Enter Burst Time for process 4 :6\n",
      "Enter arrival time for process 4 :4\n",
      "Enter process id for process 5 :5\n",
      "Enter Burst Time for process 5 :9\n",
      "Enter arrival time for process 5 :8\n",
      "Processes    Burst Time     Waiting Time     Turn-Around Time\n",
      "  1 \t\t 2 \t\t 0 \t\t 2\n",
      "  2 \t\t 4 \t\t 0 \t\t 4\n",
      "  3 \t\t 7 \t\t 7 \t\t 14\n",
      "  4 \t\t 6 \t\t 3 \t\t 9\n",
      "  5 \t\t 9 \t\t 12 \t\t 21\n",
      "\n",
      "Average waiting time = 4.40000 \n",
      "Average turn around time =  10.0\n"
     ]
    }
   ],
   "source": [
    "def findWaitingTime(processes, n, wt):  \n",
    "    rt = [0] * n \n",
    "    for i in range(n):  \n",
    "        rt[i] = processes[i][1] \n",
    "    complete = 0\n",
    "    t = 0\n",
    "    minm = 999999999\n",
    "    short = 0\n",
    "    check = False\n",
    "    while (complete != n):  \n",
    "        for j in range(n): \n",
    "            if ((processes[j][2] <= t) and \n",
    "                (rt[j] < minm) and rt[j] > 0): \n",
    "                minm = rt[j] \n",
    "                short = j \n",
    "                check = True\n",
    "        if (check == False): \n",
    "            t += 1\n",
    "            continue  \n",
    "        rt[short] -= 1 \n",
    "        minm = rt[short]  \n",
    "        if (minm == 0):  \n",
    "            minm = 999999999 \n",
    "        if (rt[short] == 0):    \n",
    "            complete += 1\n",
    "            check = False\n",
    "            fint = t + 1  \n",
    "            wt[short] = (fint - proc[short][1] -    \n",
    "                                proc[short][2]) \n",
    "  \n",
    "            if (wt[short] < 0): \n",
    "                wt[short] = 0\n",
    "        t += 1\n",
    "def findTurnAroundTime(processes, n, wt, tat):   \n",
    "    for i in range(n): \n",
    "        tat[i] = processes[i][1] + wt[i]    \n",
    "def findavgTime(processes, n):  \n",
    "    wt = [0] * n \n",
    "    tat = [0] * n  \n",
    "    findWaitingTime(processes, n, wt)    \n",
    "    findTurnAroundTime(processes, n, wt, tat)   \n",
    "    print(\"Processes    Burst Time     Waiting\",  \n",
    "                    \"Time     Turn-Around Time\") \n",
    "    total_wt = 0\n",
    "    total_tat = 0\n",
    "    for i in range(n): \n",
    "  \n",
    "        total_wt = total_wt + wt[i]  \n",
    "        total_tat = total_tat + tat[i]  \n",
    "        print(\" \", processes[i][0], \"\\t\\t\",  \n",
    "                   processes[i][1], \"\\t\\t\",  \n",
    "                   wt[i], \"\\t\\t\", tat[i]) \n",
    "  \n",
    "    print(\"\\nAverage waiting time = %.5f \"%(total_wt /n) ) \n",
    "    print(\"Average turn around time = \", total_tat / n) \n",
    "if __name__ ==\"__main__\":   \n",
    "    proc=[]\n",
    "    n = int(input(\"Enter size : \"))\n",
    "    for i in range(n):\n",
    "        Id=int(input(\"Enter process id for process {} :\".format(i+1)))\n",
    "        bt=int(input(\"Enter Burst Time for process {} :\".format(i+1)))\n",
    "        at=int(input(\"Enter arrival time for process {} :\".format(i+1)))\n",
    "        proc.append([Id,bt,at])\n",
    "    findavgTime(proc, n) "
   ]
  },
  {
   "cell_type": "markdown",
   "metadata": {},
   "source": [
    " "
   ]
  },
  {
   "cell_type": "markdown",
   "metadata": {},
   "source": [
    "# SJF NON PRE-EMPTIVE"
   ]
  },
  {
   "cell_type": "code",
   "execution_count": 2,
   "metadata": {},
   "outputs": [
    {
     "name": "stdout",
     "output_type": "stream",
     "text": [
      "Enter the number of process: \n",
      "4\n",
      "Enter the burst time of the processes: \n",
      "\n",
      "4 8 6 9\n",
      "\n",
      "\n",
      "Process\t  Burst Time\t  Waiting Time\t  Turn Around Time\n",
      "1\t\t4\t\t0\t\t4\n",
      "\n",
      "\n",
      "3\t\t6\t\t4\t\t10\n",
      "\n",
      "\n",
      "2\t\t8\t\t10\t\t18\n",
      "\n",
      "\n",
      "4\t\t9\t\t18\t\t27\n",
      "\n",
      "\n",
      "Average Waiting time is: 8.0\n",
      "Average Turn Arount Time is: 13.75\n"
     ]
    }
   ],
   "source": [
    "\n",
    "bt=[]   \n",
    "print(\"Enter the number of process: \")\n",
    "n=int(input())\n",
    "processes=[]\n",
    "for i in range(0,n):\n",
    "    processes.insert(i,i+1)\n",
    "print(\"Enter the burst time of the processes: \\n\")\n",
    "bt=list(map(int, input().split()))\n",
    "for i in range(0,len(bt)-1):  \n",
    "    for j in range(0,len(bt)-i-1):\n",
    "        if(bt[j]>bt[j+1]):\n",
    "            temp=bt[j]\n",
    "            bt[j]=bt[j+1]\n",
    "            bt[j+1]=temp\n",
    "            temp=processes[j]\n",
    "            processes[j]=processes[j+1]\n",
    "            processes[j+1]=temp\n",
    "wt=[]    \n",
    "avgwt=0  \n",
    "tat=[]    \n",
    "avgtat=0  \n",
    "wt.insert(0,0)\n",
    "tat.insert(0,bt[0])\n",
    "for i in range(1,len(bt)):  \n",
    "    wt.insert(i,wt[i-1]+bt[i-1])\n",
    "    tat.insert(i,wt[i]+bt[i])\n",
    "    avgwt+=wt[i]\n",
    "    avgtat+=tat[i]\n",
    "avgwt=float(avgwt)/n\n",
    "avgtat=float(avgtat)/n\n",
    "print(\"\\n\")\n",
    "print(\"Process\\t  Burst Time\\t  Waiting Time\\t  Turn Around Time\")\n",
    "for i in range(0,n):\n",
    "    print(str(processes[i])+\"\\t\\t\"+str(bt[i])+\"\\t\\t\"+str(wt[i])+\"\\t\\t\"+str(tat[i]))\n",
    "    print(\"\\n\")\n",
    "print(\"Average Waiting time is: \"+str(avgwt))\n",
    "print(\"Average Turn Arount Time is: \"+str(avgtat))"
   ]
  }
 ],
 "metadata": {
  "kernelspec": {
   "display_name": "Python 3",
   "language": "python",
   "name": "python3"
  },
  "language_info": {
   "codemirror_mode": {
    "name": "ipython",
    "version": 3
   },
   "file_extension": ".py",
   "mimetype": "text/x-python",
   "name": "python",
   "nbconvert_exporter": "python",
   "pygments_lexer": "ipython3",
   "version": "3.7.3"
  }
 },
 "nbformat": 4,
 "nbformat_minor": 2
}
